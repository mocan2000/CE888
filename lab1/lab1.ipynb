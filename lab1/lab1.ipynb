{
 "cells": [
  {
   "cell_type": "markdown",
   "metadata": {},
   "source": [
    "# CE888: Data Science and Decision Making Lab 1\n"
   ]
  },
  {
   "cell_type": "markdown",
   "metadata": {},
   "source": [
    "Over today's practice you'll learn:\n",
    "* to use JuPyter notebooks to quickly prototype code and show results\n",
    "* the numerical Python library\n",
    "\n",
    "This lab is divided in two parts. In each of them, you will have to fill in the gaps following the instructions given.\n",
    "The prompts for you to write code will look like this:"
   ]
  },
  {
   "cell_type": "code",
   "execution_count": null,
   "metadata": {},
   "outputs": [],
   "source": [
    "#<------------INSERT CODE HERE------------>"
   ]
  },
  {
   "cell_type": "markdown",
   "metadata": {},
   "source": [
    "This might involve more than one line of code from you!\n",
    "\n",
    "Do **not** delete code from the notebook.\n",
    "\n",
    "Let's start!"
   ]
  },
  {
   "cell_type": "markdown",
   "metadata": {},
   "source": [
    "## Part 1\n",
    "\n",
    "In the first part of the lab we're going to check your Python skills and, in particular, we will ask you to create some functions to operate on vectors and matrices.\n",
    "\n"
   ]
  },
  {
   "cell_type": "markdown",
   "metadata": {},
   "source": [
    "### Operations with vectors"
   ]
  },
  {
   "cell_type": "code",
   "execution_count": 3,
   "metadata": {},
   "outputs": [
    {
     "name": "stdout",
     "output_type": "stream",
     "text": [
      "[1, 2, 4, 78, 93]\n",
      "The vector has 5 elements\n"
     ]
    }
   ],
   "source": [
    "# Let's create a vector. We can do this as a Python built-in type: the list\n",
    "vector1 = [1, 2, 4, 78, 93] # we declare the vector as a list of elements\n",
    "\n",
    "print(vector1)\n",
    "print(\"The vector has %d elements\" % len(vector1))"
   ]
  },
  {
   "cell_type": "code",
   "execution_count": 9,
   "metadata": {},
   "outputs": [],
   "source": [
    "# Let's add a number to every element of the vector.\n",
    "## Exercise: create a function that, given a vector and a number,\n",
    "## returns the addition of that number to each element of the vector\n",
    "def vector_plus_num(vector, number):\n",
    "    vector=list(map(lambda x:x+number, vector))\n",
    "    \n",
    "    return vector"
   ]
  },
  {
   "cell_type": "code",
   "execution_count": 10,
   "metadata": {},
   "outputs": [
    {
     "name": "stdout",
     "output_type": "stream",
     "text": [
      "[6, 7, 9, 83, 98]\n",
      "[-32, -31, -29, 45, 60]\n"
     ]
    }
   ],
   "source": [
    "# Let's test your function:\n",
    "vector = [1, 2, 4, 78, 93]\n",
    "print(vector_plus_num(vector, 5))\n",
    "print(vector_plus_num(vector, -33))"
   ]
  },
  {
   "cell_type": "markdown",
   "metadata": {},
   "source": [
    "What if we now wanted to mutiply a number and a vector? **Do not do it**, just think about what you'd need!"
   ]
  },
  {
   "cell_type": "markdown",
   "metadata": {},
   "source": [
    "And what if we want to calculate the mean value of your vector?"
   ]
  },
  {
   "cell_type": "code",
   "execution_count": 12,
   "metadata": {},
   "outputs": [],
   "source": [
    "## Exercise: create a function that, given a vector,\n",
    "## returns the mean value of its elements.\n",
    "def vector_mean(vector):\n",
    "    mu=sum(vector) / len(vector)\n",
    "    return mu"
   ]
  },
  {
   "cell_type": "code",
   "execution_count": 13,
   "metadata": {},
   "outputs": [
    {
     "name": "stdout",
     "output_type": "stream",
     "text": [
      "35.6\n"
     ]
    }
   ],
   "source": [
    "# Now test your function:\n",
    "vector = [1, 2, 4, 78, 93] # we declare the vector as a list of elements\n",
    "print(vector_mean(vector))\n",
    "#<------------INSERT CODE HERE------------>"
   ]
  },
  {
   "cell_type": "markdown",
   "metadata": {},
   "source": [
    "We will now work on operations between pairs of vectors."
   ]
  },
  {
   "cell_type": "code",
   "execution_count": 14,
   "metadata": {},
   "outputs": [],
   "source": [
    "# Now let's create a new vector, called vector2, of the same length as vector1.\n",
    "# We will then look at operations with multiple vectors, \n",
    "# such as adding and subtracting them, and vector multiplications.\n",
    "vector2 = [2, 2, 2, 2, 2] #<------------INSERT CODE HERE------------>\n",
    "\n",
    "assert len(vector1) == len(vector2), \"The vectors are not of the same length\""
   ]
  },
  {
   "cell_type": "code",
   "execution_count": 15,
   "metadata": {},
   "outputs": [],
   "source": [
    "# Create a function that returns new vector of the same length as vector1 and vector2, \n",
    "# for which each element is the sum of the corresponding elements from vector1 and vector2.\n",
    "\n",
    "# Feel free to create a function to do this!\n",
    "\n",
    "def add_two_vectors(vec1, vec2):\n",
    "    sumVec = [sum(i) for i in zip(vec1, vec2)]\n",
    "    return sumVec"
   ]
  },
  {
   "cell_type": "code",
   "execution_count": 16,
   "metadata": {},
   "outputs": [
    {
     "name": "stdout",
     "output_type": "stream",
     "text": [
      "[3, 4, 6, 80, 95]\n"
     ]
    }
   ],
   "source": [
    "# Let's test your function:\n",
    "vector1 = [1, 2, 4, 78, 93]\n",
    "vector2 = [2, 2, 2, 2, 2]\n",
    "\n",
    "print(add_two_vectors(vector1, vector2))\n",
    "#print(add_two_vectors(vector1, [1, 2, 3]))\n",
    "# If the second print resulted in an error, don't worry about it for now!"
   ]
  },
  {
   "cell_type": "markdown",
   "metadata": {},
   "source": [
    "How about the multiplication of vectors?\n",
    "There are two types of vector multiplications:\n",
    "* The dot product (or scalar product) takes two vectors and returns a scalar.\n",
    "* The cross product (or vector product) takes two vectors and returns another vector."
   ]
  },
  {
   "cell_type": "markdown",
   "metadata": {},
   "source": [
    "Now let's create a function that returns the scalar product of two vectors.\n",
    "\n",
    "This can be done by multiplying pairs of elements and adding the result:\n",
    "\n",
    "A = [A1, A2, A3, ..., An]\n",
    "\n",
    "B = [B1, B2, B3, ..., Bn]\n",
    "\n",
    "A · B = A1·B1 + A2·B2 + ... An·Bn"
   ]
  },
  {
   "cell_type": "code",
   "execution_count": 17,
   "metadata": {},
   "outputs": [],
   "source": [
    "def scalar_product(v1, v2):\n",
    "    multVec = [a*b for a, b in zip(v1, v2)]\n",
    "    #[a*b for a, b in zip(A, B)]\n",
    "    scalarProduct=sum(multVec)\n",
    "    return scalarProduct"
   ]
  },
  {
   "cell_type": "code",
   "execution_count": 18,
   "metadata": {},
   "outputs": [
    {
     "name": "stdout",
     "output_type": "stream",
     "text": [
      "30\n"
     ]
    }
   ],
   "source": [
    "# Test your function\n",
    "\n",
    "vector1 = [1, 2, 3, 4, 5]\n",
    "vector2 = [2, 2, 2, 2, 2]\n",
    "print(scalar_product(vector1, vector2))"
   ]
  },
  {
   "cell_type": "markdown",
   "metadata": {},
   "source": [
    "### Operations with matrices\n",
    "\n",
    "Again, there are multiple things we can do with matrices. For example, adding/subtracting/multiplying a number to each element of a matrix and matrix multiplication.\n",
    "\n",
    "We're going to attempt the last one only."
   ]
  },
  {
   "cell_type": "code",
   "execution_count": 19,
   "metadata": {},
   "outputs": [],
   "source": [
    "# Create a function that receives two matrices as input and returns the matrix multiplication of the two\n",
    "# If you don't know how to multiply two matrices, check:\n",
    "# https://en.wikipedia.org/wiki/Matrix_multiplication#Definition\n",
    "\n",
    "def matrix_multiplication(matrix1, matrix2):\n",
    "    \n",
    "    multipl_result = [[ai*bi for ai, bi in zip(*rows)] \n",
    "                       for rows in zip(matrix1, matrix2)]\n",
    "    \n",
    "    return multipl_result"
   ]
  },
  {
   "cell_type": "code",
   "execution_count": 20,
   "metadata": {},
   "outputs": [],
   "source": [
    "# And let's test your function:\n",
    "# NOTE: some of the tests below will give errors. Don't worry about them!\n",
    "matrixA = [[1, 2, 3], [1, 2, 3]]\n",
    "matrixB = [[5, 6, 7], [5, 6, 7], [5, 6, 7]]\n",
    "matrixC = [[8, 9], [8, 9], [8, 9], [8, 9]]\n",
    "matrixD = [[10, 11], [10, 11], [10, 11]]"
   ]
  },
  {
   "cell_type": "code",
   "execution_count": 21,
   "metadata": {},
   "outputs": [
    {
     "name": "stdout",
     "output_type": "stream",
     "text": [
      "[[5, 12, 21], [5, 12, 21]]\n"
     ]
    }
   ],
   "source": [
    "print(matrix_multiplication(matrixA, matrixB))"
   ]
  },
  {
   "cell_type": "code",
   "execution_count": 22,
   "metadata": {},
   "outputs": [
    {
     "name": "stdout",
     "output_type": "stream",
     "text": [
      "[[8, 18], [8, 18]]\n"
     ]
    }
   ],
   "source": [
    "print(matrix_multiplication(matrixA, matrixC))"
   ]
  },
  {
   "cell_type": "code",
   "execution_count": 23,
   "metadata": {},
   "outputs": [
    {
     "name": "stdout",
     "output_type": "stream",
     "text": [
      "[[10, 22], [10, 22]]\n"
     ]
    }
   ],
   "source": [
    "print(matrix_multiplication(matrixD, matrixA))"
   ]
  },
  {
   "cell_type": "markdown",
   "metadata": {},
   "source": [
    "Hopefully this has convinced you that operating with vectors and matrices like this is not the best way.\n",
    "Now we will turn to the second part of this lab, in which you will be introduced to the numerical Python library, *numpy*."
   ]
  },
  {
   "cell_type": "markdown",
   "metadata": {},
   "source": [
    "## Part 2: Numpy\n"
   ]
  },
  {
   "cell_type": "markdown",
   "metadata": {},
   "source": [
    "Numpy has a built-in type called the *ndarray*. "
   ]
  },
  {
   "cell_type": "code",
   "execution_count": 24,
   "metadata": {},
   "outputs": [],
   "source": [
    "import numpy as np # Importing convention for Numpy"
   ]
  },
  {
   "cell_type": "markdown",
   "metadata": {},
   "source": [
    "#### Creating and manipulating arrays"
   ]
  },
  {
   "cell_type": "code",
   "execution_count": 25,
   "metadata": {},
   "outputs": [
    {
     "name": "stdout",
     "output_type": "stream",
     "text": [
      "[1. 2. 3.]\n",
      "float32\n",
      "[1.+2.j 3.-4.j]\n",
      "complex64\n",
      "[False  True  True]\n",
      "bool\n",
      "[[1 2 3]\n",
      " [1 2 3]]\n",
      "int32\n",
      "(2, 3)\n",
      "[2 2 2 2 2]\n",
      "int32\n",
      "(5,)\n"
     ]
    }
   ],
   "source": [
    "# Create arrays with a specified data type\n",
    "\n",
    "arr = np.array([1, 2, 3], dtype=np.float32)\n",
    "print(arr)\n",
    "print(arr.dtype)\n",
    "\n",
    "arr = np.array([1+2j, 3-4j], dtype=np.complex64)  # an array of complex numbers\n",
    "print(arr)\n",
    "print(arr.dtype)\n",
    "\n",
    "arr = np.array([0, 1, 1], dtype=np.bool)  # an array of True/False values\n",
    "print(arr)\n",
    "print(arr.dtype)\n",
    "\n",
    "# We can also create arrays from the vectors and matrices we had before.\n",
    "arr = np.array(matrixA)\n",
    "print(arr)\n",
    "print(arr.dtype)\n",
    "print(arr.shape)\n",
    "\n",
    "arr = np.array(vector2)\n",
    "print(arr)\n",
    "print(arr.dtype)\n",
    "print(arr.shape)\n"
   ]
  },
  {
   "cell_type": "code",
   "execution_count": 26,
   "metadata": {},
   "outputs": [
    {
     "name": "stdout",
     "output_type": "stream",
     "text": [
      "[0 1 2 3 4 5 6 7 8 9]\n",
      "shape: (10,)\n",
      "dtype: int32\n",
      "dim: 1\n",
      "itemsize: 4\n"
     ]
    }
   ],
   "source": [
    "arr_range2 = np.arange(10)\n",
    "print(arr_range2)\n",
    "\n",
    "# Retrieving information on the array\n",
    "print(\"shape:\", arr_range2.shape)\n",
    "print(\"dtype:\", arr_range2.dtype)\n",
    "print(\"dim:\", arr_range2.ndim)\n",
    "print(\"itemsize:\", arr_range2.itemsize)"
   ]
  },
  {
   "cell_type": "code",
   "execution_count": 27,
   "metadata": {},
   "outputs": [
    {
     "name": "stdout",
     "output_type": "stream",
     "text": [
      "[ 0  5 10 15 20 25 30 35 40 45 50 55 60 65 70 75 80 85 90 95]\n",
      "[ 0.          0.52631579  1.05263158  1.57894737  2.10526316  2.63157895\n",
      "  3.15789474  3.68421053  4.21052632  4.73684211  5.26315789  5.78947368\n",
      "  6.31578947  6.84210526  7.36842105  7.89473684  8.42105263  8.94736842\n",
      "  9.47368421 10.        ]\n"
     ]
    }
   ],
   "source": [
    "# We can use the np.arange function to create a range of values:\n",
    "arr = np.arange(0, 100, 5) #np.arange(start, stop, pace)\n",
    "print(arr)\n",
    "# Note: is the last value (100) included?\n",
    "\n",
    "# Similarly, we can use np.linspace:\n",
    "# np.linspace(start, stop, num_of_elements, endpoint=True) \n",
    "arr = np.linspace(0, 10, 20)\n",
    "print(arr)\n",
    "# Note: is the last value (10) included now?"
   ]
  },
  {
   "cell_type": "code",
   "execution_count": 28,
   "metadata": {},
   "outputs": [
    {
     "name": "stdout",
     "output_type": "stream",
     "text": [
      "[[1.5 2.  3. ]\n",
      " [4.  5.  6. ]]\n",
      "(2, 3)\n"
     ]
    }
   ],
   "source": [
    "arr_2d = np.array([(1.5, 2, 3), (4, 5, 6)]) # creating an array from a list of tuples\n",
    "print(arr_2d)\n",
    "print(arr_2d.shape)"
   ]
  },
  {
   "cell_type": "code",
   "execution_count": 29,
   "metadata": {},
   "outputs": [
    {
     "name": "stdout",
     "output_type": "stream",
     "text": [
      "arr_2d[0,0] : 1.5\n",
      "arr_2d[0,:] :  [1.5 2.  3. ]\n",
      "arr_2d[:,0] : [1.5 4. ]\n",
      "[3. 4. 5. 6.]\n"
     ]
    }
   ],
   "source": [
    "# Slicing (i.e., accessing specific elements of the array)\n",
    "\n",
    "print(\"arr_2d[0,0] :\", arr_2d[0, 0])\n",
    "print(\"arr_2d[0,:] : \", arr_2d[0, :])\n",
    "print(\"arr_2d[:,0] :\", arr_2d[:, 0])\n",
    "\n",
    "print(arr_2d[arr_2d > 2])"
   ]
  },
  {
   "cell_type": "code",
   "execution_count": 30,
   "metadata": {},
   "outputs": [
    {
     "name": "stdout",
     "output_type": "stream",
     "text": [
      "[[0. 0. 0. 0. 0. 0. 0. 0. 0. 0.]\n",
      " [0. 0. 0. 0. 0. 0. 0. 0. 0. 0.]\n",
      " [0. 0. 0. 0. 0. 0. 0. 0. 0. 0.]\n",
      " [0. 0. 0. 0. 0. 0. 0. 0. 0. 0.]\n",
      " [0. 0. 0. 0. 0. 0. 0. 0. 0. 0.]\n",
      " [0. 0. 0. 0. 0. 0. 0. 0. 0. 0.]\n",
      " [0. 0. 0. 0. 0. 0. 0. 0. 0. 0.]\n",
      " [0. 0. 0. 0. 0. 0. 0. 0. 0. 0.]\n",
      " [0. 0. 0. 0. 0. 0. 0. 0. 0. 0.]\n",
      " [0. 0. 0. 0. 0. 0. 0. 0. 0. 0.]]\n",
      "[[1. 1. 1. 1.]\n",
      " [1. 1. 1. 1.]\n",
      " [1. 1. 1. 1.]\n",
      " [1. 1. 1. 1.]]\n",
      "[[1. 1. 1. 1. 1. 1. 1. 1.]\n",
      " [1. 1. 1. 1. 1. 1. 1. 1.]]\n"
     ]
    }
   ],
   "source": [
    "# Other types of arrays\n",
    "\n",
    "zeros = np.zeros((10, 10))\n",
    "print(zeros)\n",
    "# print the shape of zeros\n",
    "#<------------INSERT CODE HERE------------>\n",
    "\n",
    "ones = np.ones((4, 4))\n",
    "print(ones)\n",
    "# print the shape of ones\n",
    "#<------------INSERT CODE HERE------------>\n",
    "\n",
    "print(ones.reshape(2, 8))\n",
    "# print the shape of ones\n",
    "#<------------INSERT CODE HERE------------>"
   ]
  },
  {
   "cell_type": "code",
   "execution_count": 31,
   "metadata": {},
   "outputs": [
    {
     "name": "stdout",
     "output_type": "stream",
     "text": [
      "[[ 4.02541619e-01 -8.38733564e-01 -1.75692132e+00 -1.01369607e+00\n",
      "   5.32670422e-01 -9.35412366e-01 -2.05606500e-01  2.13528651e-01\n",
      "  -1.11932693e+00 -1.62005297e-01 -8.98101954e-01  3.82141627e-01\n",
      "   2.75139884e-01 -2.45641723e-01 -1.07384100e+00 -2.77606275e-01\n",
      "   1.21933973e-01  4.91712313e-01 -3.21060656e-02 -2.38102630e-01\n",
      "   5.62383988e-01  1.85814062e-02  1.01301937e+00  7.37874357e-01\n",
      "   1.05655766e+00 -7.43653713e-01  2.77429719e-01  1.06970904e+00\n",
      "  -3.51467964e-01 -7.04091854e-01  2.25235352e-01 -2.81178839e-01\n",
      "   9.56795314e-02 -1.74125100e-01  9.94640842e-01 -1.62110560e-01\n",
      "   5.65469528e-01  2.40651858e+00  6.44065461e-01  2.46498908e-01\n",
      "   2.74563901e-01 -6.84378015e-01  2.15465757e+00 -4.95953651e-01\n",
      "  -1.04659023e+00  7.45826881e-01 -3.96248247e-01  7.76599395e-01\n",
      "  -7.89244345e-01  1.08453669e+00  2.14816659e+00 -7.48301508e-03\n",
      "   1.20230665e-01 -1.33289552e-01 -1.67845196e+00  1.51192149e+00\n",
      "   1.15911616e-01 -1.37701046e+00  1.67462327e+00  6.31196251e-01\n",
      "  -1.88847109e+00  6.57407137e-01 -1.25199537e+00  2.03350019e-01\n",
      "  -4.11324557e+00 -1.07138108e-01 -3.28871967e-01 -3.39885799e-01\n",
      "  -3.83341689e-01 -5.00557038e-01 -4.70237590e-01 -5.89567555e-01\n",
      "   5.92734554e-01 -7.07579911e-01 -1.57202605e+00 -1.31838314e+00\n",
      "  -5.84840094e-01 -1.12349529e-01 -1.77263489e+00  3.67988941e-01\n",
      "   7.36310974e-01 -6.93598549e-01 -6.35716712e-01  4.05079062e-01\n",
      "  -8.80687703e-01  5.74597338e-03  9.81177348e-01 -4.13214392e-01\n",
      "   3.59945497e-01 -8.33139825e-01  5.52601378e-01  7.59063353e-01\n",
      "  -1.17721148e+00  1.59733039e-01 -1.80263427e+00 -8.74142761e-01\n",
      "  -1.36440867e+00  8.22982062e-01 -5.09502069e-02  6.13604091e-02\n",
      "  -7.41257969e-01  8.82551240e-02 -7.02644776e-01  3.93583708e-01\n",
      "  -1.49477610e+00 -4.50129206e-01  7.61666396e-01  7.18972170e-01\n",
      "   6.34355268e-01 -3.69560714e-01 -1.81932775e+00 -4.70591070e-01\n",
      "   1.31952567e+00  1.89424983e+00  7.50697950e-01 -9.63772321e-01\n",
      "  -8.23751881e-01 -3.89025634e-01 -1.07390585e+00 -9.29377387e-01\n",
      "   1.39313457e+00 -9.09111067e-01 -1.06081754e+00  5.55408271e-02\n",
      "  -8.21764326e-01  2.79137075e-02 -1.27272649e+00  2.74983304e-01\n",
      "  -1.91398473e-01  1.59003219e-01  7.90869555e-01 -5.17212987e-02\n",
      "  -5.68965457e-01  8.27113159e-01  2.30233959e+00 -1.16941626e-01\n",
      "  -8.96848727e-01 -1.09550893e-01 -4.02563518e-02 -3.77497736e-01\n",
      "   2.09652913e+00 -1.57001477e-01 -1.92632255e-01 -1.17883816e+00\n",
      "  -1.11005103e-01  6.48805325e-01 -6.12507961e-01  7.88708539e-01\n",
      "  -7.72299695e-01  2.59669721e+00  3.08631172e-01  6.55804791e-01\n",
      "  -2.15167276e+00 -1.12539001e+00 -4.90135651e-01 -8.67359510e-01\n",
      "  -8.26698842e-02 -9.41897970e-01 -2.63974360e+00  2.58495190e-01\n",
      "   4.67409674e-01 -7.14302212e-01  5.61885589e-01 -2.90271457e-01\n",
      "   2.06870945e-01  8.97085904e-01 -2.69264370e-01  4.15088780e-01\n",
      "  -5.34292496e-01 -6.09881314e-01 -2.02533947e-01 -4.58972348e-01\n",
      "   3.37680413e+00  1.48788616e+00 -1.10589767e+00 -3.38505998e-01\n",
      "  -5.49902268e-01 -2.91550487e-02 -1.28479973e+00 -9.81705194e-01\n",
      "   1.35284857e+00  7.88484356e-01 -2.62490683e-01  1.45361589e+00\n",
      "  -1.29249492e+00  1.67869323e-02  3.24038075e-02  1.09256885e+00\n",
      "   1.28724143e+00 -1.69752114e+00  1.30347720e+00  9.44072288e-01\n",
      "  -6.73574624e-02  1.99349659e+00 -3.77804921e-03  9.37206449e-01\n",
      "   3.31747795e-01 -1.06300632e+00  6.25303293e-01  1.52796200e+00\n",
      "  -9.49308771e-01  1.32725062e+00  3.80325410e-01  2.09164851e-01\n",
      "   1.08826764e-01  1.10664459e+00 -2.56223016e-01  6.00009482e-01\n",
      "   1.33237655e-01 -7.60166761e-01 -2.08810183e-01  1.07786902e-01\n",
      "  -5.87551685e-01  3.69865419e-01 -1.84753015e-01  4.25302192e-01\n",
      "   6.94374683e-02 -1.03355026e+00 -7.46520637e-01 -9.03378204e-01\n",
      "  -2.17166362e-01 -1.51288612e+00 -3.80172858e-01 -3.27986596e-01\n",
      "  -1.28673638e+00 -1.31353231e+00  2.08777586e+00  1.11219772e+00\n",
      "  -3.57577140e-01 -1.50081493e+00  9.46453308e-01  1.60550224e+00\n",
      "   4.63937946e-01  7.82198341e-01 -1.66240045e+00 -1.52667327e-01\n",
      "  -6.38352050e-01  1.46624565e+00  7.77707303e-01 -5.19963585e-01\n",
      "   4.71145845e-02  1.28633334e+00 -5.23017363e-01  1.15143049e+00\n",
      "  -1.32989245e+00  4.52327138e-01  4.92251705e-01 -4.32148756e-01\n",
      "   6.93581286e-01  9.43896217e-01 -1.80344555e+00 -6.22344685e-01\n",
      "   2.11157435e-01  1.89728165e+00  7.12398561e-01 -2.93762310e-01\n",
      "   5.84739741e-01  4.00292812e-01 -7.44653175e-01  1.35292210e+00\n",
      "  -5.03097450e-01  3.54289603e-01  1.03399017e+00 -4.54291276e-01\n",
      "   3.28708234e-01  1.10747201e+00 -2.43406859e-01  5.30693307e-02\n",
      "   1.48192419e+00  7.01213313e-01 -1.93424264e-02 -2.13251494e-01\n",
      "  -5.47443527e-01 -8.41059100e-01 -2.10346114e+00 -8.64793558e-03\n",
      "  -1.34296156e+00  2.36740686e+00  1.68854057e+00  6.48412344e-01\n",
      "  -1.22130241e+00  1.96519140e+00 -7.30013999e-02 -2.42690439e-01\n",
      "  -1.48603659e+00 -9.21877163e-02  5.35188484e-01 -8.66838620e-01\n",
      "  -7.83424079e-02 -7.11382859e-01 -1.19050137e+00 -1.69592085e+00\n",
      "  -3.93069707e-01 -1.28106071e+00  7.21952542e-02  1.05118987e+00\n",
      "  -2.67276236e-01  1.03079474e-01 -1.70321454e-01  1.13252654e-01\n",
      "   5.99810012e-01  5.13264015e-01  6.20047891e-01  3.41761259e-01\n",
      "  -1.77819771e+00  3.46997490e-02 -6.50851121e-01  2.38492288e-01\n",
      "   6.86977573e-01  9.92787863e-01 -2.33648962e+00  3.36104089e-01\n",
      "  -1.95010753e-01  9.85286876e-01  2.64711577e-01 -1.59839255e+00\n",
      "  -1.15194228e-01  7.93696107e-01  1.11925525e-01  2.95865427e-01\n",
      "   4.53408448e-01  1.95543624e-02  4.59184743e-01  1.66339173e+00\n",
      "   2.12145898e-02  1.44767433e+00  1.75153545e-01 -1.40928002e+00\n",
      "   1.23165997e+00  2.04870454e+00 -1.82524368e-01  5.76212309e-01\n",
      "  -4.70530876e-01  1.57333558e+00  9.64055302e-01  6.00217082e-01\n",
      "   5.53988746e-01 -4.11534758e-01 -2.10692729e+00 -9.31453770e-01\n",
      "   1.68289784e+00  7.69042357e-02  1.04235497e+00  3.08531453e-01\n",
      "  -4.85310057e-03  8.69407321e-01  1.58598195e+00  3.46437416e-02\n",
      "   3.63554907e-01 -4.18063493e-02 -9.71434236e-01  2.40422175e+00\n",
      "   1.18871684e+00 -8.07904184e-01 -7.06019210e-01 -1.42618188e+00\n",
      "  -4.60643780e-02  3.06453433e-02  2.33011855e+00  2.79807139e-01\n",
      "   1.85159331e+00  4.01453177e-01  2.74601030e-01  1.25049016e-01\n",
      "   4.66660000e-01  2.03007463e-01 -1.57498435e+00 -8.72145917e-02\n",
      "  -1.41636977e+00 -4.01783904e-01  5.28904125e-01 -1.30493943e+00\n",
      "   2.77441157e-01  2.27349618e-01 -2.24365015e+00  1.03313992e+00\n",
      "  -6.18457666e-01 -3.25360910e-01  5.26170160e-01 -4.82599637e-01\n",
      "   1.66751116e-02  6.43658187e-01 -1.09879053e+00  7.39750365e-01\n",
      "  -1.00679615e+00  9.77787330e-01 -1.65117154e+00 -1.05745978e+00\n",
      "  -1.15143108e-01 -5.75481441e-01 -3.30237301e-01  3.49330077e-01\n",
      "  -1.89537686e+00 -6.34662790e-01 -1.52436794e-01 -9.76497262e-02\n",
      "   8.38217045e-01  1.07403052e+00  6.76613953e-01  3.97453399e-01\n",
      "  -3.71987598e-01 -5.92833893e-01 -6.35552871e-01 -1.73134311e+00\n",
      "   2.63886767e-02 -1.37722293e+00  3.91134765e-01 -9.16727712e-01\n",
      "  -1.42120698e+00 -2.86628824e-01 -9.92422197e-01  1.44802225e-01\n",
      "   1.40891909e+00  1.28972828e+00 -4.87149836e-01 -6.10197334e-01\n",
      "   7.83763493e-01 -2.42209509e+00 -1.84010112e+00 -8.54199414e-01\n",
      "  -2.69049679e-01 -2.22999120e+00 -1.37336581e+00 -4.43776403e-01\n",
      "  -1.19902401e+00 -6.68662912e-01 -2.08393201e-01 -8.42522269e-01\n",
      "   1.48228415e+00 -1.90025246e+00  5.36904169e-01  1.19410312e+00\n",
      "   9.21342696e-01  5.44242594e-01  1.22137619e+00  2.28133587e-01\n",
      "   5.55579170e-01 -5.91286371e-01  5.06376150e-01 -3.17423589e-01\n",
      "   1.25967686e+00 -2.07649961e-01  8.45625575e-01  2.34395651e-01\n",
      "  -2.14833302e+00 -3.17115723e-01  6.71141937e-01 -4.94792579e-01\n",
      "  -4.89328761e-01  8.78669746e-01  1.09031471e+00  2.71498934e-01\n",
      "   1.44036316e+00  3.63341244e-02 -6.18663438e-01 -7.98149984e-01\n",
      "   1.14728819e+00  8.85047212e-02 -1.28706043e+00 -1.09056166e+00\n",
      "   1.95769860e+00  1.51179554e+00  9.80472020e-01 -9.83397632e-01\n",
      "   1.05729000e+00  9.46777462e-01  1.07578204e+00 -8.68915082e-01\n",
      "  -1.40871195e+00  7.05787207e-01 -1.41241891e+00 -1.73858403e+00\n",
      "  -6.04764472e-01  1.56544165e+00  1.77501809e+00 -2.16938307e+00\n",
      "   8.30317625e-02  7.00947478e-01 -2.24321830e+00 -5.60434645e-01\n",
      "   4.41118670e-01  6.24511320e-01 -1.46057882e-01 -1.63721157e+00\n",
      "  -2.24133531e-01  2.06595908e-01  1.32152458e+00 -3.46695347e-01\n",
      "   2.49438637e+00  1.76261391e+00  1.97006269e-02 -3.71378706e-01\n",
      "  -3.22040988e-01 -7.06233071e-01 -1.14881957e+00  2.90764521e-01\n",
      "  -7.96202742e-01 -1.18891951e+00  8.86628775e-01 -2.54292875e-01\n",
      "   1.02007101e+00 -6.70897609e-02  4.08059375e-01 -4.72360591e-02\n",
      "  -6.25520135e-01 -1.87316400e+00  1.27881366e-01 -1.07079732e-01\n",
      "   8.96232281e-01  7.93696831e-01 -1.22005335e+00 -3.28680821e-01\n",
      "  -2.87419553e-02  1.49383972e-01 -2.79868545e+00 -1.48384354e+00\n",
      "  -1.36669106e-01 -1.76309783e+00  5.08081984e-01 -8.58357847e-01\n",
      "   1.84741647e-01  3.97702423e-01 -1.05834063e+00  7.23607343e-01\n",
      "  -3.26284954e-01 -8.15657129e-03 -8.24100746e-01  1.90297509e-01\n",
      "   6.13778938e-01 -4.12608505e-01 -8.15796264e-01  2.22068744e+00\n",
      "   1.32200181e+00  1.84954030e+00  1.97876595e+00  9.14531350e-02\n",
      "   4.23932343e-03  7.90337777e-01 -1.26866839e+00  1.03387927e+00\n",
      "  -1.39968133e-01 -1.06336292e+00 -1.61591028e+00 -1.18971789e+00\n",
      "   1.27867910e+00 -7.01176128e-01  7.68587707e-01  8.29606415e-01\n",
      "  -5.59802156e-01  1.44316019e+00  1.53721652e+00  2.95977583e-01\n",
      "   7.84927482e-01  3.06818428e-01 -1.49221568e-01  1.13860417e+00\n",
      "   1.11345208e-01 -4.90041180e-01  1.74837355e+00 -3.55569220e-01\n",
      "   1.11304208e+00 -6.12654765e-01 -9.35032940e-02  3.83787146e-01\n",
      "  -1.50179608e+00  1.51247758e+00 -4.38253208e-01 -1.09902301e+00\n",
      "   9.19030250e-01  1.48538448e+00  1.55723487e+00 -1.25683689e-02\n",
      "   6.35928406e-02  1.79460547e-01  6.49713060e-01 -5.70677041e-01\n",
      "   5.07877544e-01  2.95832874e-01 -1.18162077e-01  3.49930828e-02\n",
      "   1.16554130e+00 -8.36679458e-01  3.08722677e-01 -1.40253051e+00\n",
      "  -8.02143715e-01 -2.38613433e+00 -2.78332099e-01  1.01008287e+00\n",
      "   1.70607625e-01 -7.97224611e-01  5.50483032e-01 -5.34879593e-01\n",
      "   2.77261610e-01 -1.37155033e+00 -1.87809044e-01  1.82781688e+00\n",
      "   1.08579732e+00 -1.16524527e+00  8.85323858e-02 -1.00249556e+00\n",
      "  -7.63100510e-01 -3.05175353e-01 -1.01561247e+00 -4.95212209e-01\n",
      "  -1.27756749e-01  1.94566846e-01 -9.69527579e-02  1.01087435e+00\n",
      "   1.24824459e+00  1.52549623e+00 -1.74118281e-01 -1.71491217e+00\n",
      "   4.63608391e-01  1.36315566e+00 -3.13670545e-01  5.07620750e-01\n",
      "  -4.66077216e-01 -2.57332098e-01  3.44894876e-01 -7.86808894e-01\n",
      "  -7.64807816e-01 -8.48113420e-01  1.77352713e-01 -3.49828976e-01\n",
      "  -4.25779300e-01 -9.50385335e-01  1.86366109e-01 -3.16795201e-01\n",
      "   7.67469692e-01 -3.46524604e-01  2.88318300e+00 -8.94931709e-01\n",
      "  -2.67366898e-01  1.56457398e+00  1.25622580e+00 -9.01297248e-01\n",
      "  -8.36188928e-01 -1.28654070e+00  1.25940135e-01  8.84169771e-01\n",
      "  -5.10805509e-03 -8.38250905e-01  1.25483747e+00 -2.30621368e+00\n",
      "   8.38019986e-02  5.67655275e-02 -2.04803554e+00 -1.36533518e+00\n",
      "  -4.09267465e-01 -1.09629375e+00  3.10890991e-01 -6.95389095e-01\n",
      "  -1.35717633e+00 -1.49664902e+00  5.60059078e-01 -5.69395639e-01\n",
      "  -6.15604162e-01  4.88155241e-02 -1.65865633e+00 -1.99276794e+00\n",
      "   1.20671194e+00 -1.25179214e+00  2.66808296e-01 -1.30705965e+00\n",
      "  -3.76043863e-01  5.97089732e-01 -1.99128502e-01 -1.21233092e+00\n",
      "  -1.49873795e+00  8.69231755e-01 -5.18376373e-01 -2.66829377e+00\n",
      "   9.31228263e-01  1.73276474e-01 -6.67557034e-01 -8.37474525e-01\n",
      "  -1.16673729e+00  1.12688831e+00  9.64495613e-01 -5.42249574e-02\n",
      "  -1.24200742e+00  1.44818916e-02  1.48117106e+00 -1.08929250e+00\n",
      "  -8.36588021e-01 -2.15413623e+00 -1.97274028e-01 -8.94883747e-01\n",
      "   9.11122851e-01 -5.50122728e-01  8.33972606e-01 -1.58912009e+00\n",
      "  -9.02813838e-01  1.53464649e+00  3.03242280e+00  2.67507094e-02\n",
      "   4.32798736e-01  3.00640886e-01  6.00042721e-02  3.05603556e-01\n",
      "  -1.55209265e+00 -1.20406183e+00  1.22985537e+00  1.87927644e+00\n",
      "   4.95740065e-01  1.00119883e-02  1.09418551e-01 -1.45690786e-01\n",
      "  -3.76804282e-01  9.30436456e-01 -4.15925355e-01  2.03442096e-01\n",
      "   2.43817855e+00 -1.58265569e+00  1.62708823e+00  4.03206381e-01\n",
      "   3.21817836e-01 -2.11123803e+00  1.63731048e-01 -3.02806972e-01\n",
      "  -6.48623059e-01  1.04529658e+00 -9.48300044e-01  1.61441955e+00\n",
      "   7.38386695e-01 -1.19096518e-01 -4.36023121e-01 -8.40177267e-01\n",
      "   1.12772456e+00 -4.37682563e-02  4.69117333e-01  1.91900598e+00\n",
      "  -6.99897560e-01 -1.48391036e-02  2.60865008e+00 -1.86155986e-01\n",
      "  -1.99215702e-01 -1.45067576e+00  1.01702395e+00  6.55739260e-01\n",
      "  -9.69311843e-01 -3.58940304e-01 -8.95312424e-01 -4.87681899e-02\n",
      "  -1.69491166e+00 -6.07047757e-01 -1.77749305e+00  1.64277219e+00\n",
      "  -6.40439283e-01 -6.18030546e-01 -4.82201594e-01  6.81025869e-01\n",
      "   1.21381081e+00  1.25623752e+00  1.14909895e+00 -1.20324377e-01\n",
      "   9.70517246e-01 -8.73591185e-01  1.60803191e+00 -2.23729674e+00\n",
      "  -3.17203085e-01 -4.72683545e-01 -2.73416091e-01  4.99000247e-01\n",
      "  -9.60681053e-01  2.09070603e+00  5.01296860e-01 -3.83087436e-01\n",
      "   9.59080668e-02 -9.63912331e-02 -1.83315797e+00  6.60276822e-01\n",
      "   2.48805651e-01  6.97527014e-01 -5.75022333e-01 -6.32273880e-01\n",
      "  -1.48381854e+00  5.69079353e-01 -1.27544188e+00 -2.74002511e+00\n",
      "   1.46985521e+00  1.09679570e+00  7.47615024e-01 -5.38317924e-01\n",
      "  -6.03968888e-01 -9.23847742e-01 -5.39470705e-01  1.67935940e+00\n",
      "  -3.15703265e-01 -1.10112899e+00  1.19566589e-01 -8.83137693e-01\n",
      "  -8.93047372e-01 -1.03722952e+00  1.15999878e+00 -2.07294773e+00\n",
      "  -2.80202413e-01 -1.37653779e+00 -4.62926191e-01  9.17422519e-01\n",
      "   1.69230268e+00  9.81724837e-01 -6.44669336e-01 -4.07653219e-01\n",
      "  -5.80238828e-01 -2.70701548e-01 -9.04720430e-01  5.21625664e-01\n",
      "  -8.41535017e-01 -5.13221312e-01  8.09750595e-01 -1.08238607e+00\n",
      "   1.15592240e-01  8.16102982e-01  2.79697276e+00  3.92632704e-01\n",
      "   1.92745852e+00  6.84778086e-01 -1.67317983e+00  1.07303338e+00\n",
      "   1.22856605e+00  6.90416995e-02 -1.01514490e-01  7.94823966e-01\n",
      "  -8.94475001e-01  1.48604294e-02  1.04546162e+00 -1.19535394e+00\n",
      "  -7.03712212e-01  5.53384060e-01  2.58415131e+00 -1.18810014e+00\n",
      "  -3.89094001e-01  1.04927400e+00 -7.05395422e-01  3.74839129e-01\n",
      "   1.20161341e+00  1.88653656e+00  1.90823066e-01 -1.04184184e+00\n",
      "  -3.77016901e-01  4.85620825e-01  1.72622110e+00  2.42040945e-01\n",
      "  -3.06073992e-01 -6.26337076e-01 -6.66544157e-01  7.78773243e-01\n",
      "   2.43381068e-01 -3.87220698e-01  2.44694767e-03  3.35532610e-01\n",
      "   8.48630962e-01 -1.43510556e-01 -1.14938253e+00 -7.33865325e-01\n",
      "   1.09752728e+00 -1.98992603e-01 -9.79695092e-01 -1.40084771e+00\n",
      "   4.54304318e-01  6.48676647e-01  4.93631841e-01  3.19554321e-01\n",
      "  -5.87748710e-01  7.98509409e-03  6.45624563e-01  8.74844272e-01\n",
      "   1.01580686e+00 -4.20988770e-01  2.39213882e-02  2.25911364e-01\n",
      "  -1.06748828e+00  2.41686289e+00 -2.45377910e-01 -7.65027445e-01\n",
      "  -1.40187162e+00 -5.16560909e-01 -3.79174042e-01 -1.39143575e+00\n",
      "   2.47396491e+00  1.44684488e+00  5.97975367e-01 -1.99778910e-01\n",
      "   1.47754320e-02 -6.40538054e-01 -7.69842706e-01 -9.06064579e-01\n",
      "   1.38976975e+00  5.39713920e-02  1.58658952e+00  1.07908678e+00\n",
      "  -1.08373651e-01  1.48602612e+00  9.35103978e-01  1.89228375e+00\n",
      "  -4.15216661e-01 -9.93662662e-01  1.69456076e+00 -2.09990740e+00\n",
      "   7.11094540e-01 -4.42644044e-01 -6.00583825e-01 -1.07072614e+00\n",
      "  -1.70533241e-01  1.94456594e+00  9.60096465e-01 -7.21683509e-01\n",
      "  -1.13705069e+00 -1.47614604e+00  1.86376821e-01  8.22563401e-01\n",
      "  -1.00779293e+00 -4.41386757e-01 -4.35364566e-01 -8.73224621e-01\n",
      "   1.01589370e-01  2.25535746e+00 -5.53592075e-01  7.01777694e-01\n",
      "  -2.08975750e-01 -1.51176181e+00  8.71299521e-01  2.64026654e-01\n",
      "  -1.87720743e-01  9.64074915e-01 -4.02061863e-01 -3.30680673e-01\n",
      "   1.33662793e+00  1.23454218e+00  1.73386254e+00 -1.24246044e-01\n",
      "   6.83162130e-01 -6.11305417e-01  1.87372302e+00 -4.96110272e-01\n",
      "  -9.64007262e-01  4.38866908e-01  1.56090894e-01 -1.45642067e+00\n",
      "   1.02301484e+00 -1.22035771e-01  3.42155471e-01 -8.72971980e-01\n",
      "   7.09903119e-01  1.62399566e+00 -8.16818112e-01  3.34152469e-01\n",
      "   2.31033159e-01  3.51795426e-01 -6.00201115e-01  9.32728637e-02\n",
      "  -6.72478947e-01  7.98857563e-01  2.85724685e+00 -7.14976244e-01\n",
      "  -5.54451017e-01  1.48638005e+00 -1.49514219e+00 -8.47273023e-01\n",
      "  -3.05343947e-01  2.54031738e-01 -1.56875057e-01  7.77297857e-01\n",
      "   1.82036364e+00 -1.01919497e+00 -9.92271447e-01 -2.07409174e-01\n",
      "  -9.01854069e-03  1.47757896e+00  5.62773625e-01 -2.42442932e-01\n",
      "   3.55066757e-01  7.89568128e-01 -1.03968719e+00  2.72489411e-01\n",
      "  -7.66161905e-01 -9.35412024e-01  7.95974535e-01 -1.80369942e+00\n",
      "   8.68007837e-01  1.82083949e-01 -3.22615759e-01 -1.20343644e+00\n",
      "   1.17080425e+00 -1.28987426e+00  6.02452173e-01 -1.37676203e+00\n",
      "   1.26138461e+00  5.13565795e-01  9.42634753e-01 -3.43319049e-01\n",
      "   8.15734916e-02 -6.87064773e-01 -1.23603326e+00 -4.23391509e-01\n",
      "  -4.80394301e-01  3.30944376e-01  1.15568201e-01  6.95328769e-01]]\n",
      "[[-0.55494821  0.79664858 -0.59031479 -0.71479098 -0.95184321 -0.10831753\n",
      "   0.76118346 -0.04234517 -0.23249314 -0.70081737]\n",
      " [ 1.50461218 -1.51183499  0.8900766   0.86777322  0.76901268  0.33874856\n",
      "   0.22390442  0.13303339  1.16840275  0.0462192 ]\n",
      " [ 0.49873691 -1.1821974  -1.31371975 -1.1718457  -0.05425743 -0.99280812\n",
      "  -0.92753097  0.68649529 -0.25477215  0.77975383]\n",
      " [-0.82086967  1.93853476 -0.61470512  0.38454172  0.93270114 -0.57581409\n",
      "   0.03658735  0.99121815  1.13511035 -1.84287597]\n",
      " [ 1.53850604 -1.1906034   0.77259029  1.58489778 -0.04803469 -0.47584997\n",
      "   0.0533487   0.74081007  0.34673797  0.00247836]\n",
      " [-0.32808192 -0.91595497 -1.82326505  0.52163432  0.50525156 -0.48679524\n",
      "  -1.70371396  0.7924974  -0.84502904  0.44618946]\n",
      " [ 0.88626427  1.55172699  0.56815332  0.40325272 -1.42650509  1.40373521\n",
      "   0.03274095  2.12036723  0.44082015  0.95429428]\n",
      " [-0.59081054  0.3206816   0.12122119 -0.06951019 -0.8811387  -0.50760128\n",
      "   0.65203709 -1.71338322  0.51905246 -0.71253488]\n",
      " [-1.14416331  0.41571281  0.21591372 -1.19666635 -0.68026068 -0.64862967\n",
      "  -1.04368871 -0.26842775 -2.00507892 -0.58612898]\n",
      " [ 1.25298936  1.1370749   2.08620785  0.23182785 -0.15847726  0.42331947\n",
      "  -0.45558224  0.28652829 -0.23547915  1.97439592]]\n"
     ]
    }
   ],
   "source": [
    "# We can also use numpy to generate random values.\n",
    "randn = np.random.randn(1, 1000)\n",
    "\n",
    "# print the shape of randn\n",
    "print(randn)\n",
    "\n",
    "# print the first 10 elements of randn. What happens if you re-run this code?\n",
    "array = np.random.randn(10, 10) \n",
    "print(array)"
   ]
  },
  {
   "cell_type": "code",
   "execution_count": 32,
   "metadata": {},
   "outputs": [
    {
     "name": "stdout",
     "output_type": "stream",
     "text": [
      "[[ 0.68566928  0.45874192]\n",
      " [ 0.57132452  0.17466436]\n",
      " [ 2.11387321 -0.94268089]]\n"
     ]
    }
   ],
   "source": [
    "import random\n",
    "random.seed(23)\n",
    "\n",
    "# Generate a new array of random numbers, this time of shape (3, 2) and print it.\n",
    "# What happens when you re-run the code now?\n",
    "# TIP: you might want to save the result to compare the previous and the new one\n",
    "\n",
    "array = np.random.randn(3, 2) \n",
    "print(array)\n",
    "\n",
    "\n",
    "# Think: what does np.seed() do? (Use Google if you don't know!)"
   ]
  },
  {
   "cell_type": "markdown",
   "metadata": {},
   "source": [
    "#### Combine arrays"
   ]
  },
  {
   "cell_type": "code",
   "execution_count": 33,
   "metadata": {},
   "outputs": [
    {
     "name": "stdout",
     "output_type": "stream",
     "text": [
      "Array1= [[1 2 3 4]\n",
      " [1 2 3 4]]\n",
      "Array2= [[5 6 7 8]\n",
      " [5 6 7 8]]\n",
      "[[1 2 3 4]\n",
      " [1 2 3 4]\n",
      " [5 6 7 8]\n",
      " [5 6 7 8]]\n",
      "[[1 2 3 4 5 6 7 8]\n",
      " [1 2 3 4 5 6 7 8]]\n",
      "[[1 2 3 4]\n",
      " [1 2 3 4]\n",
      " [5 6 7 8]\n",
      " [5 6 7 8]]\n",
      "[[1 2 3 4 5 6 7 8]\n",
      " [1 2 3 4 5 6 7 8]]\n"
     ]
    }
   ],
   "source": [
    "arr1 = np.array([[1, 2, 3, 4], [1, 2, 3, 4]])\n",
    "arr2 = np.array([[5, 6, 7, 8], [5, 6, 7 , 8]])\n",
    "\n",
    "# Print the shapes of arr1 and arr2 and cat after each of the types of concatenations.\n",
    "# Concatenating arrays is a very common operation. Make sure you understand it!\n",
    "# TIP: it might help you to print the actual cat array after each type of concatenation too\n",
    "\n",
    "#<------------INSERT CODE HERE------------>\n",
    "print('Array1=', arr1)\n",
    "print('Array2=', arr2)\n",
    "\n",
    "# concatenate along the row\n",
    "cat = np.concatenate((arr1, arr2), axis=0)\n",
    "print(cat)\n",
    "\n",
    "\n",
    "# concatenate along the column\n",
    "cat = np.concatenate((arr1, arr2), axis=1)    \n",
    "print(cat)\n",
    "\n",
    "\n",
    "# stack arrays vertically\n",
    "cat = np.vstack((arr1, arr2))\n",
    "print(cat)\n",
    "\n",
    "# stack arrays horizontally\n",
    "cat = np.hstack((arr1, arr2))\n",
    "print(cat)\n"
   ]
  },
  {
   "cell_type": "markdown",
   "metadata": {},
   "source": [
    "#### Operations with arrays"
   ]
  },
  {
   "cell_type": "code",
   "execution_count": 34,
   "metadata": {},
   "outputs": [],
   "source": [
    "#Let's create a couple of vectors using numpy\n",
    "v1 = np.array([20, 30, 40, 50])\n",
    "v2 = np.arange(4)\n",
    "\n",
    "#And a couple of matrices\n",
    "mat1 = np.array([[1, 2, 3, 4], [1, 2, 3, 4]])\n",
    "mat2 = mat1.T # this is the transpose of mat1"
   ]
  },
  {
   "cell_type": "code",
   "execution_count": 35,
   "metadata": {},
   "outputs": [
    {
     "name": "stdout",
     "output_type": "stream",
     "text": [
      "[25 35 45 55]\n",
      "[[2368 2369 2370 2371]\n",
      " [2368 2369 2370 2371]]\n"
     ]
    }
   ],
   "source": [
    "# Add a number to an array of 1-D (i.e., a vector)\n",
    "print(5 + v1)\n",
    "# Compare the line above to your function vector_plus_num(vector, number) from Part 1.\n",
    "\n",
    "# Does your function work with matrices?\n",
    "\n",
    "# How do you add a number to a np.array object? Try adding 2367 to mat1\n",
    "\n",
    "#<------------INSERT CODE HERE------------>\n",
    "print(2367 + mat1)\n"
   ]
  },
  {
   "cell_type": "code",
   "execution_count": 40,
   "metadata": {},
   "outputs": [
    {
     "name": "stdout",
     "output_type": "stream",
     "text": [
      "Adding two vectors [20 31 42 53]\n",
      "Subtracting two vectors [20 29 38 47]\n",
      "[0.         1.         1.41421356 1.73205081]\n",
      "logarithm= [2.99573227 3.40119738 3.68887945 3.91202301]\n"
     ]
    }
   ],
   "source": [
    "# Let's try to add and subtract vectors now:\n",
    "print(\"Adding two vectors\", v1 + v2)\n",
    "print(\"Subtracting two vectors\", v1 - v2)\n",
    "\n",
    "# What happens if you try to add two vectors of different length?\n",
    "\n",
    "\n",
    "# Square root of each elemnt of v2:\n",
    "print(np.sqrt(v2))\n",
    "\n",
    "# Calculate the logarithm of each element of v1\n",
    "# TIP: check if you can do this using some numpy function!\n",
    "logarithm = np.log(v1)\n",
    "print('logarithm=', logarithm)\n",
    "\n",
    "\n"
   ]
  },
  {
   "cell_type": "markdown",
   "metadata": {},
   "source": [
    "### Multiplication of vectors\n",
    "\n",
    "There are a number of functions in numpy that you can use to multiply vectors and matrices.\n",
    "\n",
    "Scalar product of two vectors: np.dot(vector1, vector2)\n",
    "\n",
    "Vector product of two vectors: np.cross(x, y)"
   ]
  },
  {
   "cell_type": "code",
   "execution_count": 65,
   "metadata": {},
   "outputs": [
    {
     "name": "stdout",
     "output_type": "stream",
     "text": [
      "part1 result= [0, 30, 80, 150]\n",
      "numpy function result= [  0  30  80 150]\n",
      "True\n",
      "PurePytho Time elapsed: 0.17491674423217773 seconds\n",
      "[0, 30, 80, 150]\n",
      " Numpy Time elapsed: 0.06694459915161133 seconds\n"
     ]
    }
   ],
   "source": [
    "# Calculate the scalar product of v1 and v2 using your function from part 1 and the numpy function.\n",
    "#<------------INSERT CODE HERE------------>\n",
    "v1 = np.array([20, 30, 40, 50])\n",
    "v2 = np.arange(4)\n",
    "def scaler_product(v1, v2):\n",
    "    multVec = [a*b for a, b in zip(v1, v2)]\n",
    "    return multVec\n",
    "\n",
    "print('part1 result=', scaler_product(v1, v2))\n",
    "\n",
    "scalerProduct= np.multiply(v1,v2)\n",
    "print('numpy function result=', scalerProduct)\n",
    "# Check if the result is the same using your function from Part 1\n",
    "\n",
    "#<------------INSERT CODE HERE------------>\n",
    "\n",
    "result_check=np.array_equal(scaler_product(v1, v2),  scalerProduct)\n",
    "print(result_check)\n",
    "    \n",
    "#v3 = np.random.randn(4000)\n",
    "#v4 = np.random.randn(4000)\n",
    "# Calculate the scalar product of v3 and v4 using your function from part 1 and the numpy function.\n",
    "# Compare the time it takes to execute each of them.\n",
    "# HINT: https://stackoverflow.com/questions/7370801/measure-time-elapsed-in-python\n",
    "\n",
    "#<------------INSERT CODE HERE------------>\n",
    "from timeit import timeit\n",
    "#,timeit(stmt=s1, number=1000000)\n",
    "def scaler_product_time(v1, v2):\n",
    "    start_time=time()\n",
    "    i=0\n",
    "    while i < 100000:\n",
    "        multVec = [a*b for a, b in zip(v1, v2)]\n",
    "        i+=1\n",
    "    elapsed_time = time() - start_time\n",
    "    print (\" Execution time for PurePython: {} seconds\".format(elapsed_time))\n",
    "    return multVec\n",
    "\n",
    "print(scaler_product_time(v1, v2))\n",
    "\n",
    "\n",
    "start_time=time()\n",
    "i=0\n",
    "while i< 100000:\n",
    "    scalerProduct= np.multiply(v1,v2)\n",
    "    i+=1\n",
    "elapsed_time = time() - start_time\n",
    "print (\"Execution time for Numpy: {} seconds\".format(elapsed_time))\n",
    "\n"
   ]
  },
  {
   "cell_type": "code",
   "execution_count": 46,
   "metadata": {},
   "outputs": [
    {
     "name": "stdout",
     "output_type": "stream",
     "text": [
      "numpy function result= [  0  30  80 150]\n"
     ]
    }
   ],
   "source": [
    "# Calculate the vector product of v1 and v2 using the numpy function.\n",
    "\n",
    "#<------------INSERT CODE HERE------------>\n",
    "scalerProduct= np.multiply(v1,v2)\n",
    "print('numpy function result=', scalerProduct)"
   ]
  },
  {
   "cell_type": "markdown",
   "metadata": {},
   "source": [
    "### Matrix multiplication\n",
    "\n",
    "This can be done on numpy using: np.matmul(a, b)"
   ]
  },
  {
   "cell_type": "code",
   "execution_count": 66,
   "metadata": {},
   "outputs": [
    {
     "name": "stdout",
     "output_type": "stream",
     "text": [
      "part1 result= [[1, 2], [2, 4]]\n",
      "numpy function result= [[30 30]\n",
      " [30 30]]\n",
      "False\n",
      " Execution time for PurePython: 0.4257514476776123 seconds\n",
      "[[1, 2], [2, 4]]\n",
      "Execution time for Numpy: 0.08496308326721191 seconds\n"
     ]
    }
   ],
   "source": [
    "# Check the result of multiplying mat1 and mat2 using the numpy function and the one you created in part 1.\n",
    "# Check the execution time for each of them. Which one is faster? \n",
    "\n",
    "#<------------INSERT CODE HERE------------>\n",
    "mat1 = np.array([[1, 2, 3, 4], [1, 2, 3, 4]])\n",
    "mat2 = mat1.T # this is the transpose of mat1\n",
    "\n",
    "def matrix_multiplication(mat1, mat2):\n",
    "    multipl_result = [[ai*bi for ai, bi in zip(*rows)] \n",
    "                       for rows in zip(mat1, mat2)]\n",
    "    \n",
    "    return multipl_result\n",
    "\n",
    "print('part1 result=', matrix_multiplication(mat1, mat2))\n",
    "\n",
    "res = np.dot(mat1,mat2)\n",
    "print('numpy function result=', res)\n",
    "\n",
    "# Is it the same result?\n",
    "\n",
    "#<------------INSERT CODE HERE------------>\n",
    "result_check=np.array_equal(matrix_multiplication(mat1, mat2),  res)\n",
    "print(result_check)\n",
    "\n",
    "def matrix_mult_timer(mat1, mat2):\n",
    "    start_time=time()\n",
    "    i=0\n",
    "    while i < 100000:    \n",
    "        multipl_result = [[ai*bi for ai, bi in zip(*rows)] \n",
    "                       for rows in zip(mat1, mat2)]\n",
    "        i+=1\n",
    "    elapsed_time = time() - start_time\n",
    "    print (\" Execution time for PurePython: {} seconds\".format(elapsed_time))    \n",
    "    return multipl_result\n",
    "print(matrix_mult_timer(mat1, mat2))\n",
    "\n",
    "start_time=time()\n",
    "i=0\n",
    "while i < 100000:\n",
    "    res = np.dot(mat1,mat2)\n",
    "    i+=1\n",
    "elapsed_time = time() - start_time\n",
    "print (\"Execution time for Numpy: {} seconds\".format(elapsed_time))"
   ]
  },
  {
   "cell_type": "markdown",
   "metadata": {},
   "source": [
    "**Plotting a function**"
   ]
  },
  {
   "cell_type": "code",
   "execution_count": 67,
   "metadata": {},
   "outputs": [],
   "source": [
    "import matplotlib.pyplot as plt"
   ]
  },
  {
   "cell_type": "code",
   "execution_count": 73,
   "metadata": {},
   "outputs": [
    {
     "data": {
      "image/png": "[encoded data removed]",
      "text/plain": [
       "<Figure size 432x288 with 1 Axes>"
      ]
     },
     "metadata": {},
     "output_type": "display_data"
    }
   ],
   "source": [
    "plt.figure()\n",
    "plt.plot(2, 10)\n",
    "plt.xlabel(\"Time\")\n",
    "plt.ylabel(\"sin(1/4*pi*t)\")\n",
    "plt.title(\"Sinusoidal function\")\n",
    "plt.show()"
   ]
  },
  {
   "cell_type": "code",
   "execution_count": 75,
   "metadata": {},
   "outputs": [
    {
     "name": "stdout",
     "output_type": "stream",
     "text": [
      "4\n",
      "2\n",
      "[1 4 5 8 9]\n",
      "[0 3 3 7 7]\n"
     ]
    }
   ],
   "source": [
    "print(np.max(4))\n",
    "print(np.min(2))\n",
    "\n",
    "## Elementwise minimum and maximum\n",
    "arr1 = np.array([1, 3, 5, 7, 9])\n",
    "arr2 = np.array([0, 4, 3, 8, 7])\n",
    "print(np.maximum(arr1, arr2))\n",
    "print(np.minimum(arr1, arr2))"
   ]
  },
  {
   "cell_type": "code",
   "execution_count": 76,
   "metadata": {
    "scrolled": true
   },
   "outputs": [
    {
     "name": "stdout",
     "output_type": "stream",
     "text": [
      "-0.013350865391939025\n",
      "-0.04278730281681381\n",
      "1.0153256367568935\n"
     ]
    }
   ],
   "source": [
    "# Statistical summaries \n",
    "\n",
    "print(np.mean(randn))\n",
    "print(np.median(randn))\n",
    "print(np.std(randn))\n",
    "\n"
   ]
  },
  {
   "cell_type": "markdown",
   "metadata": {},
   "source": [
    "Create a 5 (channels) x 100 (samples) matrix of random integers between 0 and 543 and retrieve the following information:\n",
    "    - the max, min, mean of all samples.\n",
    "    - the mean and variance of each channel\n"
   ]
  },
  {
   "cell_type": "code",
   "execution_count": 94,
   "metadata": {},
   "outputs": [
    {
     "name": "stdout",
     "output_type": "stream",
     "text": [
      "433\n",
      "##############################################\n",
      "[[ 1.46786951e+00 -4.40043751e-01  5.84499760e-01  5.46443138e-01\n",
      "  -3.45557913e-02  1.25160328e+00 -7.73282809e-02 -2.40918053e+00\n",
      "   1.42288971e+00  1.83738520e+00  1.11304298e+00  1.34141871e+00\n",
      "  -1.60420529e+00  7.15704868e-03  1.28522966e+00  3.06294126e-02\n",
      "  -7.99786348e-01  7.40315206e-01 -7.57535240e-01 -2.58196071e+00\n",
      "   1.88916782e-01 -5.52474622e-01 -2.96993864e+00 -9.49186044e-01\n",
      "   7.80793855e-01 -3.59442242e-01 -7.08508592e-01  3.90485008e-01\n",
      "   2.37014253e+00  2.48726908e-01  8.00596158e-02  1.24698748e+00\n",
      "   4.73201729e-01  1.05021763e-01 -3.63983617e-01  2.40221630e-01\n",
      "   3.11255036e-01 -7.50335729e-01 -2.46953770e-01  6.03691122e-01\n",
      "   1.42262908e-01  1.52485502e+00 -5.89200906e-01 -8.64168089e-01\n",
      "   1.27276908e+00 -4.37101894e-01 -7.58880644e-01 -9.19529135e-01\n",
      "  -5.99648939e-01  2.05959717e-01  3.77877991e-01  7.06181750e-01\n",
      "   2.03582709e-01 -8.73940653e-01 -8.97638656e-01 -1.70690933e+00\n",
      "  -1.84013754e-01  3.35037529e-01 -1.56469956e+00 -1.52041877e+00\n",
      "   1.61370297e-01 -1.06741720e+00 -2.64893345e-01  1.32105519e+00\n",
      "   5.01169092e-01 -2.57666443e-01 -7.37817442e-01 -3.27101729e-01\n",
      "  -1.45284435e-01 -1.48271739e-01 -1.51493438e+00  9.68060441e-01\n",
      "   1.93072801e+00 -1.54006391e+00 -1.13748823e+00  1.64784323e+00\n",
      "  -7.95545903e-01 -1.09665273e+00 -1.90409447e+00  1.16575524e+00\n",
      "  -6.19775489e-01  1.08519783e+00 -3.61867444e-01  7.51672715e-01\n",
      "  -7.53014085e-01 -9.86593367e-01  1.48802603e+00  2.51841013e-01\n",
      "  -7.67153185e-01  2.43631138e+00  1.92378436e+00 -1.18477410e+00\n",
      "   2.11622864e+00 -1.53915863e+00 -9.97728882e-01 -9.05795030e-01\n",
      "  -5.10025606e-01  8.62159304e-01  3.47254321e-01 -6.05549366e-01]\n",
      " [ 2.40889698e+00  1.49039269e+00  4.11098958e-01 -2.56719497e+00\n",
      "   8.35660918e-01  7.69755555e-01 -3.06252893e-01  6.82817646e-01\n",
      "   2.02913980e-01 -1.08391855e+00 -6.42819273e-01  1.28860289e+00\n",
      "  -1.37526954e+00 -1.34740089e+00 -2.10127253e+00  2.06793834e-01\n",
      "  -9.42560066e-01 -4.49569327e-02  1.96910574e-01 -4.48355069e-02\n",
      "  -5.04920038e-01 -2.11151909e+00  4.55424516e-01  5.85315965e-01\n",
      "  -2.15280160e+00 -2.87298826e-01 -1.10443156e-02  2.34659248e-01\n",
      "   2.59161159e+00 -7.65877535e-01 -6.74069901e-01 -1.98715233e+00\n",
      "   4.26616614e-01 -6.74680211e-01 -8.80042387e-02  2.26374713e-01\n",
      "   1.49543088e+00  2.25317652e+00 -9.62698036e-01  2.02238219e-01\n",
      "   8.57277806e-02  7.63433429e-01 -2.53186157e-01  1.29289087e+00\n",
      "  -7.41530773e-01  2.56751592e-01  1.10277918e+00  2.11116629e+00\n",
      "   1.31806858e+00 -9.33213526e-01  2.25777384e-01 -9.97154331e-01\n",
      "  -8.01529592e-02 -5.60242396e-02  7.62016025e-01 -2.49113185e+00\n",
      "   9.14839332e-01  9.39929333e-01 -2.48151715e-01 -3.14995661e-01\n",
      "   3.13504697e-01  6.32774872e-01 -1.01137942e+00 -7.00337964e-01\n",
      "  -1.16005712e+00 -4.12210628e-02 -1.05427968e+00  1.33913538e+00\n",
      "   1.25813713e-01 -4.23864933e-01 -2.73615344e-02 -1.14392647e-01\n",
      "   4.77642738e-01  7.11848426e-02  2.75209304e-01  2.37523172e-01\n",
      "   4.60425687e-01 -4.43981390e-01  6.69424775e-01  2.90518677e-02\n",
      "  -9.31346577e-01 -9.80768298e-01 -7.91994074e-01  1.25905480e+00\n",
      "   9.73966076e-01  2.22522028e-01 -5.19061262e-01  2.52352758e+00\n",
      "  -2.22729854e+00  2.45553822e-01  6.19551010e-01  2.45950578e-01\n",
      "  -4.00803376e-03 -1.07780311e+00 -3.38206992e-01 -3.02944777e+00\n",
      "  -5.13620937e-01  1.59559499e-01 -1.02836684e+00 -4.28686143e-01]\n",
      " [-1.21144602e-01 -5.26425685e-01 -4.99297359e-01 -6.54820969e-02\n",
      "   2.47062138e+00 -1.40192287e+00 -7.65173117e-01  1.24349041e-01\n",
      "   4.63719437e-01 -1.52840458e-01 -2.38012961e-01  1.12770479e+00\n",
      "  -2.13713539e-01  7.79568831e-01 -1.63672276e-01 -2.98058219e-01\n",
      "   1.35776229e+00 -1.07016362e+00  4.38920860e-01 -1.51555526e+00\n",
      "   1.41382012e-01 -1.19576817e+00  1.13647868e+00 -1.46591578e+00\n",
      "   3.53261904e-01 -7.77490735e-02  3.34993616e-01  1.02810307e+00\n",
      "   9.03555440e-01 -3.21725346e-01 -2.36851256e-01 -3.28494586e-01\n",
      "   3.87622274e-01  7.19293058e-01  1.05406864e+00 -3.07939197e-01\n",
      "  -3.51584947e-01 -1.02532375e+00 -8.37461143e-02 -3.29627293e-01\n",
      "  -2.73415165e+00  1.30200276e+00 -2.31567170e+00 -8.80314060e-01\n",
      "   1.03936555e+00 -9.43819978e-01 -1.28633708e+00 -1.40587906e+00\n",
      "   2.04045125e-01  1.70281630e-01 -5.39734200e-02 -7.82827417e-01\n",
      "   2.39237775e+00  1.50706906e+00 -5.40132923e-01 -5.01881332e-01\n",
      "   1.65246756e+00 -1.48283611e+00 -1.36996076e-01  5.37293957e-02\n",
      "  -1.18654887e+00  6.79649044e-01  3.20578924e-01 -6.24486750e-01\n",
      "  -1.72127907e+00 -1.43488175e+00  1.09051848e+00  4.99136804e-01\n",
      "   3.52339887e-01  1.14085627e+00  9.06214229e-01 -1.99459020e+00\n",
      "   1.41894468e+00  9.96170586e-02 -1.31570843e+00 -2.28269638e+00\n",
      "  -1.04957858e+00  1.57545933e+00  1.82163395e-01 -1.63038769e+00\n",
      "   3.63391102e-01 -4.92073606e-01 -3.16071769e-01  1.49235508e-02\n",
      "   2.35346467e-01  1.38965708e+00 -8.49842890e-01 -4.97471135e-01\n",
      "   3.42006256e-01  1.61027145e-01 -5.85721744e-02  8.30798841e-01\n",
      "  -1.30781669e+00  1.35017972e+00 -4.51676512e-01  6.79439460e-01\n",
      "  -1.44834156e+00  9.90429748e-01  7.32720581e-01  8.39277236e-01]\n",
      " [ 2.50822037e-01  4.28702632e-01 -5.11533641e-01 -9.14718705e-01\n",
      "  -6.28031409e-01  1.75168472e-01 -1.08331853e+00  5.53911448e-02\n",
      "  -4.91548703e-01  1.27982231e+00  2.92412423e-01  2.74544913e-01\n",
      "  -4.33926393e-02  1.07950081e+00 -9.06080754e-01 -1.03032188e+00\n",
      "  -5.16673629e-01 -7.10423688e-03 -2.06092285e-01 -9.56262458e-01\n",
      "   1.46133798e+00 -1.81322970e-01  1.03685821e-01 -8.82818638e-01\n",
      "   1.76665823e+00 -1.39331864e+00  5.11353843e-01 -8.36821487e-01\n",
      "  -1.64091277e-01  9.25628129e-02  6.12976573e-02 -4.32773203e-01\n",
      "  -7.96763752e-01  9.06645620e-01 -1.14508400e+00 -1.42784533e+00\n",
      "  -5.29880882e-01 -6.51645586e-02  2.61202339e+00  1.45733791e+00\n",
      "   4.32694325e-02  7.67887397e-01 -1.11207322e+00  8.85722796e-01\n",
      "   1.39551447e+00 -6.52050945e-01  1.51052434e+00 -1.64198572e+00\n",
      "  -7.81970135e-01 -1.06923374e+00  1.25048287e+00  1.29438764e+00\n",
      "   2.01840628e+00  1.18557767e+00 -2.51168110e+00  1.81193225e-01\n",
      "  -2.07113137e+00  5.71932987e-01  7.71116796e-01 -5.73106149e-01\n",
      "  -2.08017887e-01  3.46830242e-01  1.06872458e+00  2.29272549e-01\n",
      "   1.27661719e-01 -1.40942206e+00 -4.02001524e-01 -1.88755279e+00\n",
      "   3.96276305e-01 -3.15077931e-01  1.39589555e+00  1.67162195e-01\n",
      "   1.59345331e+00  2.84371843e-01 -1.63163420e+00  4.93949518e-03\n",
      "   1.40767697e+00  2.63673846e+00  6.83970989e-02 -1.25768271e+00\n",
      "  -3.02458281e-01 -1.28870751e+00  1.85705226e+00  4.95324966e-01\n",
      "   2.16763688e+00 -2.77281483e+00 -1.09019151e+00  1.10891151e+00\n",
      "   1.30640952e+00  1.19071411e+00  1.58876366e+00 -1.41813825e-01\n",
      "   2.80573005e-01 -1.35325732e+00  1.93702419e+00  1.60980778e-01\n",
      "  -3.10804911e-01  1.37055461e+00 -1.43353457e-02  8.28768490e-01]\n",
      " [-1.15212595e+00  2.92411813e-02  2.34458079e+00 -1.29105010e+00\n",
      "   1.76046738e-01  1.75503521e+00 -2.44067670e-01 -1.82610912e+00\n",
      "  -1.20225147e-01  2.54580773e+00 -6.98461177e-01 -1.05033106e+00\n",
      "   1.14124914e+00  1.09656092e+00 -1.19625936e+00 -1.56292449e+00\n",
      "  -1.96785032e-01  4.35992610e-02  1.11966586e-01  2.69616469e-01\n",
      "  -9.26369111e-01 -6.94573976e-01 -8.40264986e-01  4.36080830e-01\n",
      "  -2.41717241e-01 -1.88990103e+00  2.17415019e-01 -9.53721617e-01\n",
      "   5.66239008e-01 -2.64565357e-01 -1.55581258e+00 -9.94246728e-02\n",
      "  -3.54030175e-01 -1.37224353e-03  6.85395089e-02 -1.72058337e+00\n",
      "   5.56802614e-02  1.58380133e-01  1.19720052e+00  8.63591204e-01\n",
      "   2.11845142e-01  1.62724069e+00  2.61015094e-01 -7.64745765e-01\n",
      "   4.95356001e-01 -1.31572973e+00 -5.21991744e-01 -1.26750943e+00\n",
      "   6.91801332e-01 -5.62480620e-01 -2.71726964e-02 -1.49629007e+00\n",
      "  -4.31034819e-01  6.88435780e-01  6.44782205e-01 -1.96770422e+00\n",
      "  -8.26885787e-01 -7.20693230e-01  1.21732055e+00 -5.94696028e-01\n",
      "   4.00397687e-01 -7.29848098e-01 -1.03210964e-01 -5.34871073e-01\n",
      "  -1.76618550e+00  1.05920581e+00  9.82684139e-01 -7.93599206e-01\n",
      "   7.51334704e-01  1.09587438e-01 -6.99600341e-01 -4.26729319e-01\n",
      "  -5.55288270e-01 -8.58431778e-01 -2.88471767e-01 -3.90345426e-01\n",
      "   1.29074579e+00 -1.07065657e+00 -4.81388272e-01  9.18871531e-01\n",
      "  -4.27654918e-01 -6.86811751e-01  1.10022864e+00  1.86165947e+00\n",
      "   3.91925047e-01  1.92203816e+00 -3.80109874e-01  1.50806246e-01\n",
      "  -1.16099549e+00  6.86546556e-01  7.06779375e-01 -7.14696148e-01\n",
      "  -4.17419313e-01 -3.56932733e-01 -1.02223308e+00 -4.30545348e-01\n",
      "   1.27863455e+00 -1.09189946e+00  6.92029284e-01  6.06126186e-01]]\n",
      "-0.03929375990926791\n",
      "-0.04230685105717509\n",
      "1.0590429269096373\n"
     ]
    }
   ],
   "source": [
    "#<------------INSERT CODE HERE------------>\n",
    "\n",
    "\n",
    "randNums=random.randint(0,543)\n",
    "print(randNums)\n",
    "print(\"##############################################\")\n",
    "array = np.random.randn(5, 100) \n",
    "print(array)\n",
    "print(np.mean(array))\n",
    "print(np.median(array))\n",
    "print(np.std(array))"
   ]
  },
  {
   "cell_type": "markdown",
   "metadata": {},
   "source": [
    "Use the function hist() from matplotlib to show the histogram of values of the third channel."
   ]
  },
  {
   "cell_type": "code",
   "execution_count": 92,
   "metadata": {},
   "outputs": [
    {
     "data": {
      "image/png": "[encoded data removed]",
      "text/plain": [
       "<Figure size 432x288 with 1 Axes>"
      ]
     },
     "metadata": {},
     "output_type": "display_data"
    }
   ],
   "source": [
    "#<------------INSERT CODE HERE------------>\n",
    "import matplotlib.pyplot as plt\n",
    "import pandas as pd\n",
    "#x = np.random.random_integers(1, 100, 5)\n",
    "plt.hist(array, bins=20)\n",
    "plt.ylabel('No of times')\n",
    "plt.show()"
   ]
  },
  {
   "cell_type": "code",
   "execution_count": null,
   "metadata": {},
   "outputs": [],
   "source": []
  }
 ],
 "metadata": {
  "kernelspec": {
   "display_name": "Python 3",
   "language": "python",
   "name": "python3"
  },
  "language_info": {
   "codemirror_mode": {
    "name": "ipython",
    "version": 3
   },
   "file_extension": ".py",
   "mimetype": "text/x-python",
   "name": "python",
   "nbconvert_exporter": "python",
   "pygments_lexer": "ipython3",
   "version": "3.6.5"
  }
 },
 "nbformat": 4,
 "nbformat_minor": 2
}
